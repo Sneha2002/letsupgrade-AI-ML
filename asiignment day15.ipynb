{
 "cells": [
  {
   "cell_type": "markdown",
   "metadata": {},
   "source": [
    "# 1. Create a 3x3x3 array with random values "
   ]
  },
  {
   "cell_type": "code",
   "execution_count": 1,
   "metadata": {},
   "outputs": [
    {
     "name": "stdout",
     "output_type": "stream",
     "text": [
      "[[[0.73031475 0.22419156 0.56336714]\n",
      "  [0.79646071 0.7750693  0.92843534]\n",
      "  [0.73619236 0.36857118 0.02395564]]\n",
      "\n",
      " [[0.09927787 0.76124495 0.48033217]\n",
      "  [0.97264571 0.73930599 0.10641905]\n",
      "  [0.18826338 0.60418302 0.90889261]]\n",
      "\n",
      " [[0.61748673 0.25178331 0.60594551]\n",
      "  [0.69701805 0.41228034 0.41858366]\n",
      "  [0.26035228 0.51707172 0.22589269]]]\n"
     ]
    }
   ],
   "source": [
    "import numpy as np\n",
    "x=np.random.random((3,3,3))\n",
    "print(x)"
   ]
  },
  {
   "cell_type": "markdown",
   "metadata": {},
   "source": [
    "# 2.Create a 5x5 matrix with values 1,2,3,4 just below the diagonal"
   ]
  },
  {
   "cell_type": "code",
   "execution_count": 4,
   "metadata": {},
   "outputs": [
    {
     "name": "stdout",
     "output_type": "stream",
     "text": [
      "[[0 0 0 0 0]\n",
      " [1 0 0 0 0]\n",
      " [0 2 0 0 0]\n",
      " [0 0 3 0 0]\n",
      " [0 0 0 4 0]]\n"
     ]
    }
   ],
   "source": [
    "x=np.diag(1+np.arange(4),k=-1)\n",
    "print(x)"
   ]
  },
  {
   "cell_type": "markdown",
   "metadata": {},
   "source": [
    "# 3.Create a 8x8 matrix and fill it with a checkerboard pattern"
   ]
  },
  {
   "cell_type": "code",
   "execution_count": 2,
   "metadata": {},
   "outputs": [
    {
     "name": "stdout",
     "output_type": "stream",
     "text": [
      "[[0 1 0 1 0 1 0 1]\n",
      " [1 0 1 0 1 0 1 0]\n",
      " [0 1 0 1 0 1 0 1]\n",
      " [1 0 1 0 1 0 1 0]\n",
      " [0 1 0 1 0 1 0 1]\n",
      " [1 0 1 0 1 0 1 0]\n",
      " [0 1 0 1 0 1 0 1]\n",
      " [1 0 1 0 1 0 1 0]]\n"
     ]
    }
   ],
   "source": [
    "x=np.ones((3,3))\n",
    "x=np.zeros((8,8),dtype=int)\n",
    "x[1::2,::2]=1\n",
    "x[::2,1::2]=1\n",
    "print(x)"
   ]
  },
  {
   "cell_type": "markdown",
   "metadata": {},
   "source": [
    "# 4. Normalize a 5x5 random matrix"
   ]
  },
  {
   "cell_type": "code",
   "execution_count": 6,
   "metadata": {},
   "outputs": [
    {
     "name": "stdout",
     "output_type": "stream",
     "text": [
      "Original Array:\n",
      "[[0.25698637 0.10188158 0.27470949 0.60225025 0.68874605]\n",
      " [0.53884296 0.7084333  0.22406723 0.56686158 0.66746558]\n",
      " [0.63231894 0.57425819 0.69950151 0.43056825 0.78980572]\n",
      " [0.01260935 0.15033079 0.70570798 0.31838443 0.59273818]\n",
      " [0.62217397 0.58507696 0.82639058 0.4850681  0.5191318 ]]\n",
      "After Normalization:\n",
      "[[0.30029818 0.10970052 0.3220769  0.7245693  0.83085806]\n",
      " [0.64665243 0.85505038 0.25984609 0.68108259 0.80470796]\n",
      " [0.76151866 0.69017178 0.84407471 0.51360105 0.95504337]\n",
      " [0.         0.16923644 0.85170142 0.37574604 0.71288057]\n",
      " [0.74905219 0.70346622 1.         0.58057218 0.62243073]]\n"
     ]
    }
   ],
   "source": [
    "x=np.random.random((5,5))\n",
    "print(\"Original Array:\")\n",
    "print(x)\n",
    "xmax,xmin=x.max(),x.min()\n",
    "x=(x-xmin)/(xmax-xmin)\n",
    "print(\"After Normalization:\")\n",
    "print(x)"
   ]
  },
  {
   "cell_type": "markdown",
   "metadata": {},
   "source": [
    "# 5.  How to find common values between two arrays?"
   ]
  },
  {
   "cell_type": "code",
   "execution_count": 9,
   "metadata": {},
   "outputs": [
    {
     "name": "stdout",
     "output_type": "stream",
     "text": [
      "Array1: [11 12 13 14 15 16]\n",
      "Array2: [11, 19, 18, 17, 16, 15]\n",
      "Common values between two arrays:\n",
      "[11 15 16]\n"
     ]
    }
   ],
   "source": [
    "array1=np.array([11,12,13,14,15,16])\n",
    "print(\"Array1:\",array1)\n",
    "array2=[11,19,18,17,16,15]\n",
    "print(\"Array2:\",array2)\n",
    "print(\"Common values between two arrays:\")\n",
    "print(np.intersect1d(array1,array2))"
   ]
  },
  {
   "cell_type": "markdown",
   "metadata": {},
   "source": [
    "# 6.How to get the dates of yesterday, today and tomorrow?"
   ]
  },
  {
   "cell_type": "code",
   "execution_count": 11,
   "metadata": {},
   "outputs": [
    {
     "name": "stdout",
     "output_type": "stream",
     "text": [
      "Yestraday:  2020-07-24\n",
      "Today:  2020-07-25\n",
      "Tomorrow:  2020-07-26\n"
     ]
    }
   ],
   "source": [
    "import numpy as np\n",
    "yesterday = np.datetime64('today', 'D') - np.timedelta64(1, 'D')\n",
    "print(\"Yestraday: \",yesterday)\n",
    "today     = np.datetime64('today', 'D')\n",
    "print(\"Today: \",today)\n",
    "tomorrow  = np.datetime64('today', 'D') + np.timedelta64(1, 'D')\n",
    "print(\"Tomorrow: \",tomorrow)"
   ]
  },
  {
   "cell_type": "markdown",
   "metadata": {},
   "source": [
    "# 7. Consider two random array A and B, check if they are equal"
   ]
  },
  {
   "cell_type": "code",
   "execution_count": 15,
   "metadata": {},
   "outputs": [
    {
     "name": "stdout",
     "output_type": "stream",
     "text": [
      "Array1: [[0.4470127  0.33339381 0.97659401]\n",
      " [0.40476942 0.57377811 0.82929141]\n",
      " [0.97694651 0.83182522 0.31596527]]\n",
      "Array2: [[0.69598062 0.80065152 0.1758615 ]\n",
      " [0.2033165  0.26565826 0.86994145]\n",
      " [0.33368275 0.22921046 0.59290004]]\n",
      "Two arrays are equal or not?\n",
      "False\n"
     ]
    }
   ],
   "source": [
    "x=np.random.random((3,3))\n",
    "print(\"Array1:\",x)\n",
    "y=np.random.random((3,3))\n",
    "print(\"Array2:\",y)\n",
    "print(\"Two arrays are equal or not?\")\n",
    "equal_not=np.allclose(x,y)\n",
    "print(equal_not)"
   ]
  },
  {
   "cell_type": "markdown",
   "metadata": {},
   "source": [
    "# 8.Create random vector of size 10 and replace the maximum value by 0 "
   ]
  },
  {
   "cell_type": "code",
   "execution_count": 16,
   "metadata": {},
   "outputs": [
    {
     "name": "stdout",
     "output_type": "stream",
     "text": [
      "Original array:\n",
      "[0.55262231 0.47416006 0.78685353 0.04049558 0.76396052 0.56661489\n",
      " 0.08661492 0.37466236 0.63361509 0.20466134]\n",
      "Maximum value replaced by 0: [0.55262231 0.47416006 0.         0.04049558 0.76396052 0.56661489\n",
      " 0.08661492 0.37466236 0.63361509 0.20466134]\n"
     ]
    }
   ],
   "source": [
    "x=np.random.random(10)\n",
    "print(\"Original array:\")\n",
    "print(x)\n",
    "x[x.argmax()]=0\n",
    "print(\"Maximum value replaced by 0:\",x)"
   ]
  },
  {
   "cell_type": "markdown",
   "metadata": {},
   "source": [
    "# 9. How to print all the values of an array?"
   ]
  },
  {
   "cell_type": "code",
   "execution_count": 18,
   "metadata": {},
   "outputs": [
    {
     "name": "stdout",
     "output_type": "stream",
     "text": [
      "All values of an array [ 0  1  2  3  4  5  6  7  8  9 10 11 12 13 14 15 16 17 18 19 20 21 22 23\n",
      " 24 25 26 27 28 29]\n"
     ]
    }
   ],
   "source": [
    "array=np.arange(30)\n",
    "np.set_printoptions(threshold=np.inf)\n",
    "print(\"All values of an array\",array)"
   ]
  },
  {
   "cell_type": "markdown",
   "metadata": {},
   "source": [
    "# 10.Subtract the mean of each row of a matrix"
   ]
  },
  {
   "cell_type": "code",
   "execution_count": 21,
   "metadata": {},
   "outputs": [
    {
     "name": "stdout",
     "output_type": "stream",
     "text": [
      "Original matrix:\n",
      "\n",
      "[[0.32428068 0.7267192  0.62553951 0.76604154]\n",
      " [0.16988802 0.05577882 0.87597179 0.46490381]]\n",
      "\n",
      "Subtract the mean of each row of the said matrix:\n",
      "\n",
      "[[-0.28636455  0.11607397  0.01489428  0.1553963 ]\n",
      " [-0.22174759 -0.33585679  0.48433618  0.0732682 ]]\n"
     ]
    }
   ],
   "source": [
    "import numpy as np\n",
    "print(\"Original matrix:\\n\")\n",
    "x = np.random.rand(2, 4)\n",
    "print(x)\n",
    "print(\"\\nSubtract the mean of each row of the said matrix:\\n\")\n",
    "y = x - x.mean(axis=1, keepdims=True)\n",
    "print(y)"
   ]
  },
  {
   "cell_type": "markdown",
   "metadata": {},
   "source": [
    "# 11.Consider a given vector, how to add 1 to each element indexed by a second vector (be careful with repeated indices)? "
   ]
  },
  {
   "cell_type": "code",
   "execution_count": 25,
   "metadata": {},
   "outputs": [
    {
     "name": "stdout",
     "output_type": "stream",
     "text": [
      "[2. 3. 1. 4. 2. 3. 3. 5. 3. 4.]\n"
     ]
    }
   ],
   "source": [
    "x=np.ones(10)\n",
    "y=np.random.randint(0,len(x),20)\n",
    "x += np.bincount(y,minlength=len(x))\n",
    "print(x)"
   ]
  },
  {
   "cell_type": "markdown",
   "metadata": {},
   "source": [
    "# 12.How to get the diagonal of a dot product?"
   ]
  },
  {
   "cell_type": "code",
   "execution_count": 27,
   "metadata": {},
   "outputs": [
    {
     "data": {
      "text/plain": [
       "array([0.78432798, 1.04983786, 1.44906627, 0.59608669, 0.90968937])"
      ]
     },
     "execution_count": 27,
     "metadata": {},
     "output_type": "execute_result"
    }
   ],
   "source": [
    "x=np.random.uniform(0,1,(5,5))\n",
    "y=np.random.uniform(0,1,(5,5))\n",
    "np.diag(np.dot(x,y))"
   ]
  },
  {
   "cell_type": "markdown",
   "metadata": {},
   "source": [
    "# 13.How to find the most frequent value in an array?"
   ]
  },
  {
   "cell_type": "code",
   "execution_count": 28,
   "metadata": {},
   "outputs": [
    {
     "name": "stdout",
     "output_type": "stream",
     "text": [
      "Original array:\n",
      "[2 2 2 0 2 2]\n",
      "Most frequent value in the above array:\n",
      "2\n"
     ]
    }
   ],
   "source": [
    "x=np.random.randint(0,3,6)\n",
    "print(\"Original array:\")\n",
    "print(x)\n",
    "print(\"Most frequent value in the above array:\")\n",
    "print(np.bincount(x).argmax())"
   ]
  },
  {
   "cell_type": "markdown",
   "metadata": {},
   "source": [
    "# 14.How to get the n largest values of an array"
   ]
  },
  {
   "cell_type": "code",
   "execution_count": 29,
   "metadata": {},
   "outputs": [
    {
     "name": "stdout",
     "output_type": "stream",
     "text": [
      "Original array:\n",
      "[ 0  1  2  3  4  5  6  7  8  9 10 11 12 13 14]\n",
      "[14]\n"
     ]
    }
   ],
   "source": [
    "x=np.arange(15)\n",
    "print(\"Original array:\")\n",
    "print(x)\n",
    "np.random.shuffle(x)\n",
    "n=1\n",
    "print(x[np.argsort(x)[-n:]])"
   ]
  },
  {
   "cell_type": "markdown",
   "metadata": {},
   "source": [
    "# 15.How to create a record array from a regular array?"
   ]
  },
  {
   "cell_type": "code",
   "execution_count": 30,
   "metadata": {},
   "outputs": [
    {
     "name": "stdout",
     "output_type": "stream",
     "text": [
      "Original arrays:\n",
      "[['ABC' '88.5' '90']\n",
      " ['XYZ' '87' '99']\n",
      " ['PQR' '85.5' '91']]\n",
      "\n",
      "Record array;\n",
      "[(b'ABC', 88.5, 90) (b'XYZ', 87. , 99) (b'PQR', 85.5, 91)]\n"
     ]
    }
   ],
   "source": [
    "import numpy as np\n",
    "arra1 = np.array([(\"ABC\", 88.5, 90),(\"XYZ\", 87, 99),(\"PQR\", 85.5, 91)])\n",
    "print(\"Original arrays:\")\n",
    "print(arra1)\n",
    "print(\"\\nRecord array;\")\n",
    "result = np.core.records.fromarrays(arra1.T,\n",
    "                              names='col1, col2, col3',\n",
    "                              formats = 'S80, f8, i8')\n",
    "print(result)"
   ]
  }
 ],
 "metadata": {
  "kernelspec": {
   "display_name": "Python 3",
   "language": "python",
   "name": "python3"
  },
  "language_info": {
   "codemirror_mode": {
    "name": "ipython",
    "version": 3
   },
   "file_extension": ".py",
   "mimetype": "text/x-python",
   "name": "python",
   "nbconvert_exporter": "python",
   "pygments_lexer": "ipython3",
   "version": "3.7.6"
  }
 },
 "nbformat": 4,
 "nbformat_minor": 2
}
