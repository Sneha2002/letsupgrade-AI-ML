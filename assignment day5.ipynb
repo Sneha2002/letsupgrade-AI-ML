{
 "cells": [
  {
   "cell_type": "code",
   "execution_count": 13,
   "metadata": {},
   "outputs": [
    {
     "name": "stdout",
     "output_type": "stream",
     "text": [
      "3 is a prime number\n",
      "5 is a prime number\n",
      "7 is a prime number\n",
      "11 is a prime number\n",
      "13 is a prime number\n",
      "17 is a prime number\n",
      "19 is a prime number\n",
      "23 is a prime number\n",
      "29 is a prime number\n",
      "31 is a prime number\n",
      "37 is a prime number\n",
      "41 is a prime number\n",
      "43 is a prime number\n",
      "47 is a prime number\n",
      "53 is a prime number\n",
      "59 is a prime number\n",
      "61 is a prime number\n",
      "67 is a prime number\n",
      "71 is a prime number\n",
      "73 is a prime number\n"
     ]
    }
   ],
   "source": [
    "# Question 1\n",
    "for item in range(1,74):\n",
    "    num=item\n",
    "    if num>2:\n",
    "        for i in range(3,num):\n",
    "            if (num%i==0 or num%2==0):\n",
    "                break\n",
    "        else:\n",
    "            print(num,\"is a prime number\")"
   ]
  },
  {
   "cell_type": "code",
   "execution_count": 31,
   "metadata": {},
   "outputs": [
    {
     "name": "stdout",
     "output_type": "stream",
     "text": [
      "hello world\n",
      "HELLO WORLD\n",
      "11\n",
      "dello World\n",
      "6\n",
      "False\n",
      "hELLO wORLD\n",
      "Hello Worldlets upgrade\n",
      "Hello World\n",
      "b'Hello World'\n",
      "Hello world\n",
      "hello world\n",
      "3\n",
      "1\n",
      "False\n"
     ]
    }
   ],
   "source": [
    "#Question 2\n",
    "s=\"Hello World\"\n",
    "s1=\"lets upgrade\"\n",
    "print(s.lower())\n",
    "print(s.upper())\n",
    "print(len(s))\n",
    "print(s.replace('H','d'))\n",
    "print(s.find('W'))\n",
    "print(s.isalpha())\n",
    "print(s.swapcase())\n",
    "print(s+s1)\n",
    "print(s.title())\n",
    "print(s.encode())\n",
    "print(s.capitalize())\n",
    "print(s.casefold())\n",
    "print(s.count('l'))\n",
    "print(s.index('e'))\n",
    "print(s.isalnum())"
   ]
  },
  {
   "cell_type": "code",
   "execution_count": 54,
   "metadata": {},
   "outputs": [
    {
     "name": "stdout",
     "output_type": "stream",
     "text": [
      "enter the s1:malayalam\n",
      "enter the s2:letsupgrade\n",
      "The string s1 is palindrome.\n"
     ]
    }
   ],
   "source": [
    "#Question 3\n",
    "s1=input(\"enter the s1:\")\n",
    "s2=input(\"enter the s2:\")\n",
    "if sorted(s1)==sorted(s2):\n",
    "    print(\"The strings are anagrams.\")\n",
    "if s1==s1[::-1]:\n",
    "    print(\"The string s1 is palindrome.\")\n",
    "if s2==s2[::-1]:\n",
    "        print(\"The string s2 is palindrome.\")"
   ]
  },
  {
   "cell_type": "code",
   "execution_count": 57,
   "metadata": {},
   "outputs": [
    {
     "name": "stdout",
     "output_type": "stream",
     "text": [
      "letsupgrade\n"
     ]
    }
   ],
   "source": [
    "#Question 4\n",
    "def remove(special_characters):\n",
    "    alpha=\"abcdefghijklmnopqrstuvwxyz1234567890\"\n",
    "    special_characters=special_characters.lower().replace(\" \",\"\")\n",
    "    new=\"\"\n",
    "    for i in special_characters:\n",
    "        if i in alpha:\n",
    "            new=new+i\n",
    "    print(new)\n",
    "remove(\"Lets @upgrade!\")\n"
   ]
  }
 ],
 "metadata": {
  "kernelspec": {
   "display_name": "Python 3",
   "language": "python",
   "name": "python3"
  },
  "language_info": {
   "codemirror_mode": {
    "name": "ipython",
    "version": 3
   },
   "file_extension": ".py",
   "mimetype": "text/x-python",
   "name": "python",
   "nbconvert_exporter": "python",
   "pygments_lexer": "ipython3",
   "version": "3.7.6"
  }
 },
 "nbformat": 4,
 "nbformat_minor": 4
}
