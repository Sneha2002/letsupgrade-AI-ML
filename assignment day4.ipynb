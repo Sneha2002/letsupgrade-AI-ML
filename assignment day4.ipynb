{
 "cells": [
  {
   "cell_type": "markdown",
   "metadata": {},
   "source": [
    "#Question 1\n",
    "Addition,subtraction,multiplication and division operators can be performed using complex numbers.But floor division and modulo  division can't be performed using complex numbers.\n",
    "\n"
   ]
  },
  {
   "cell_type": "code",
   "execution_count": 1,
   "metadata": {},
   "outputs": [
    {
     "name": "stdout",
     "output_type": "stream",
     "text": [
      "(6+12j)\n",
      "(2+6j)\n",
      "(-19+30j)\n",
      "(2.6923076923076925+0.46153846153846156j)\n"
     ]
    }
   ],
   "source": [
    "a=4+9j\n",
    "b=2+3j\n",
    "print(a+b)\n",
    "print(a-b)\n",
    "print(a*b)\n",
    "print(a/b)"
   ]
  },
  {
   "cell_type": "markdown",
   "metadata": {},
   "source": [
    "#Question 2\n",
    "range() function is bydefault function using that we can generate numbers in that particular range.range() function has three parameters or arguments in it,they are start,stop,step.where start means from where the range start,stop means range minus one.stop means based on that the elements will be printed with that difference.all the arguments must be integers it can't be float.but it can be either in positive or negetive. "
   ]
  },
  {
   "cell_type": "code",
   "execution_count": 4,
   "metadata": {},
   "outputs": [
    {
     "name": "stdout",
     "output_type": "stream",
     "text": [
      "2\n",
      "4\n",
      "6\n",
      "8\n"
     ]
    }
   ],
   "source": [
    "lst=list(range(1,10))\n",
    "for i in lst:\n",
    "    if i%2==0:\n",
    "        print(i)"
   ]
  },
  {
   "cell_type": "code",
   "execution_count": 5,
   "metadata": {},
   "outputs": [
    {
     "name": "stdout",
     "output_type": "stream",
     "text": [
      "30000\n"
     ]
    }
   ],
   "source": [
    "#Question 3\n",
    "x=200\n",
    "y=150\n",
    "res=x-y\n",
    "if(res>25):\n",
    "    print(x*y)\n",
    "else:\n",
    "    print(x/y)\n"
   ]
  },
  {
   "cell_type": "code",
   "execution_count": 12,
   "metadata": {},
   "outputs": [
    {
     "name": "stdout",
     "output_type": "stream",
     "text": [
      "square of 22 minus 2 is 482\n",
      "square of 44 minus 2 is 1934\n",
      "square of 66 minus 2 is 4354\n",
      "square of 88 minus 2 is 7742\n",
      "square of 100 minus 2 is 9998\n"
     ]
    }
   ],
   "source": [
    "#Question 4\n",
    "lst=[11,22,33,44,55,66,77,88,99,100]\n",
    "for i in lst:\n",
    "    if i%2==0:\n",
    "        print(\"square of\",i,\"minus 2 is\",(i**2-2))"
   ]
  },
  {
   "cell_type": "code",
   "execution_count": 24,
   "metadata": {},
   "outputs": [
    {
     "name": "stdout",
     "output_type": "stream",
     "text": [
      "15\n",
      "17\n",
      "25\n",
      "20\n",
      "44\n",
      "56\n"
     ]
    }
   ],
   "source": [
    "#Question 5\n",
    "lst=[6,8,9,11,15,17,25,20,44,56]\n",
    "for i in lst:\n",
    "    if i/2>7:\n",
    "        print(i)        "
   ]
  },
  {
   "cell_type": "code",
   "execution_count": 6,
   "metadata": {},
   "outputs": [
    {
     "data": {
      "text/plain": [
       "'C:\\\\Users\\\\Student'"
      ]
     },
     "execution_count": 6,
     "metadata": {},
     "output_type": "execute_result"
    }
   ],
   "source": [
    "import os\n",
    "os.getcwd()\n",
    "\n"
   ]
  }
 ],
 "metadata": {
  "kernelspec": {
   "display_name": "Python 3",
   "language": "python",
   "name": "python3"
  },
  "language_info": {
   "codemirror_mode": {
    "name": "ipython",
    "version": 3
   },
   "file_extension": ".py",
   "mimetype": "text/x-python",
   "name": "python",
   "nbconvert_exporter": "python",
   "pygments_lexer": "ipython3",
   "version": "3.7.6"
  }
 },
 "nbformat": 4,
 "nbformat_minor": 4
}
