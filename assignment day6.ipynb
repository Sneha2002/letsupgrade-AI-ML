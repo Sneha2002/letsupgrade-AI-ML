{
 "cells": [
  {
   "cell_type": "code",
   "execution_count": 2,
   "metadata": {},
   "outputs": [
    {
     "name": "stdout",
     "output_type": "stream",
     "text": [
      "Enter the mail id:letsupgrade@gmail.com\n",
      "gmail\n"
     ]
    }
   ],
   "source": [
    "#Question 1\n",
    "email_id=input(\"Enter the mail id:\")\n",
    "print(email_id.split(\"@\")[1].split(\".\")[0])"
   ]
  },
  {
   "cell_type": "code",
   "execution_count": 8,
   "metadata": {},
   "outputs": [
    {
     "name": "stdout",
     "output_type": "stream",
     "text": [
      "Enter list in csv:sanjay,pranavi,devika,balaji,sushma\n",
      "balaji,devika,pranavi,sanjay,sushma\n"
     ]
    }
   ],
   "source": [
    "#Question 2\n",
    "x=input(\"Enter list in csv:\")\n",
    "words=[word for word in x.split(\",\")]\n",
    "print(\",\".join(sorted(list(set(words)))))"
   ]
  },
  {
   "cell_type": "code",
   "execution_count": 21,
   "metadata": {},
   "outputs": [
    {
     "name": "stdout",
     "output_type": "stream",
     "text": [
      "{'AIML', 'day6', 'letsugrade'}\n",
      "3\n",
      "AIML \n",
      "day6 \n",
      "letsugrade \n",
      "{'AIML', 'day6', 'letsugrade', 'DRDarshan'}\n",
      "False\n",
      "{'AIML', 'day6', 'letsugrade'}\n",
      "{1, 'a', 2, 3, 'c', 'b'}\n",
      "set()\n"
     ]
    }
   ],
   "source": [
    "#Question 3 A set is a collection which is unordered and unindexed.in python sets are written with curly braces.\n",
    "st={\"letsugrade\",\"AIML\",\"day6\"}\n",
    "print(st)\n",
    "print(len(st))\n",
    "for x in st:\n",
    "    print(x,end=\" \\n\")\n",
    "    \n",
    "st.add(\"DRDarshan\")\n",
    "print(st)\n",
    "print(\"6\" in st)\n",
    "st.discard(\"DRDarshan\")\n",
    "print(st)\n",
    "\n",
    "set1={\"a\",\"b\",\"c\"}\n",
    "set2={1,2,3}\n",
    "set3=set1.union(set2)\n",
    "print(set3)\n",
    "\n",
    "st.clear()\n",
    "print(st)\n"
   ]
  },
  {
   "cell_type": "code",
   "execution_count": 1,
   "metadata": {},
   "outputs": [
    {
     "name": "stdout",
     "output_type": "stream",
     "text": [
      "[4, 6]\n"
     ]
    }
   ],
   "source": [
    "#Question 4\n",
    "lst=[1,2,3,5,7,8,9]\n",
    "def missing(lst):\n",
    "    return [i for x,y in zip(lst,lst[1:])\n",
    "        for i in range(x+1,y)if y-x>1]\n",
    "\n",
    "print(missing(lst))"
   ]
  },
  {
   "cell_type": "code",
   "execution_count": 26,
   "metadata": {},
   "outputs": [
    {
     "name": "stdout",
     "output_type": "stream",
     "text": [
      "{1, 2, 3, 4, 5, 6}\n"
     ]
    }
   ],
   "source": [
    "#Question 5\n",
    "sts=1,2,3,4,5,6,2,3,4,5\n",
    "print(set(sts))"
   ]
  }
 ],
 "metadata": {
  "kernelspec": {
   "display_name": "Python 3",
   "language": "python",
   "name": "python3"
  },
  "language_info": {
   "codemirror_mode": {
    "name": "ipython",
    "version": 3
   },
   "file_extension": ".py",
   "mimetype": "text/x-python",
   "name": "python",
   "nbconvert_exporter": "python",
   "pygments_lexer": "ipython3",
   "version": "3.7.6"
  }
 },
 "nbformat": 4,
 "nbformat_minor": 4
}
