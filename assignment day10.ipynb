{
 "cells": [
  {
   "cell_type": "markdown",
   "metadata": {},
   "source": [
    "1.For a sample of 100 employees the mean age of attrition is 36."
   ]
  },
  {
   "cell_type": "markdown",
   "metadata": {},
   "source": [
    "2.For a sample of 80 employees the meadian of monthly income is 52K. "
   ]
  },
  {
   "cell_type": "markdown",
   "metadata": {},
   "source": [
    "3.For a sample of 50 employees the variance of joblevel of attrition is 1.5e."
   ]
  },
  {
   "cell_type": "markdown",
   "metadata": {},
   "source": [
    "4.For a sample of 100 employees the skewneff of standardhours of working is 0.0."
   ]
  },
  {
   "cell_type": "markdown",
   "metadata": {},
   "source": [
    "5.Marital status doesn't affect the attrition."
   ]
  },
  {
   "cell_type": "markdown",
   "metadata": {},
   "source": [
    "6.For a sample of 30 employees the kurtosis of years at company of attrition is 4."
   ]
  },
  {
   "cell_type": "markdown",
   "metadata": {},
   "source": [
    "7.For a sample of 42 employees the standard deviation of percentsalaryhike of attrition is 3.65. "
   ]
  },
  {
   "cell_type": "markdown",
   "metadata": {},
   "source": [
    "8.For a sample of 55 employees the median of education of attrition is 3.0. "
   ]
  },
  {
   "cell_type": "markdown",
   "metadata": {},
   "source": [
    "9.For a sample of 63 employees the mean of stockoption level of attrition is 0.79."
   ]
  },
  {
   "cell_type": "markdown",
   "metadata": {},
   "source": [
    "10.For a sample of 70 employees the skewness of distancefromhome of attrition is 0.95. "
   ]
  },
  {
   "cell_type": "markdown",
   "metadata": {},
   "source": [
    "11.There is no significant relationship between marital status of the employees and gender."
   ]
  }
 ],
 "metadata": {
  "kernelspec": {
   "display_name": "Python 3",
   "language": "python",
   "name": "python3"
  },
  "language_info": {
   "codemirror_mode": {
    "name": "ipython",
    "version": 3
   },
   "file_extension": ".py",
   "mimetype": "text/x-python",
   "name": "python",
   "nbconvert_exporter": "python",
   "pygments_lexer": "ipython3",
   "version": "3.7.6"
  }
 },
 "nbformat": 4,
 "nbformat_minor": 4
}
