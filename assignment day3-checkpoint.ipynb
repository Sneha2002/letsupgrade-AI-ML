{
 "cells": [
  {
   "cell_type": "code",
   "execution_count": 6,
   "metadata": {},
   "outputs": [
    {
     "name": "stdout",
     "output_type": "stream",
     "text": [
      "subtraction = (2+4j)\n"
     ]
    }
   ],
   "source": [
    "#question 1\n",
    "a=5+10j\n",
    "b=3+6j\n",
    "c=a-b\n",
    "print(\"subtraction =\",c)"
   ]
  },
  {
   "cell_type": "code",
   "execution_count": 7,
   "metadata": {},
   "outputs": [
    {
     "name": "stdout",
     "output_type": "stream",
     "text": [
      "Enter the number:81\n",
      "4th root of a number is: 3.0\n"
     ]
    }
   ],
   "source": [
    "#question 2\n",
    "import math\n",
    "n=int(input(\"Enter the number:\"))\n",
    "m=pow(n,.25)\n",
    "print(\"4th root of a number is:\",m)"
   ]
  },
  {
   "cell_type": "code",
   "execution_count": 4,
   "metadata": {},
   "outputs": [
    {
     "name": "stdout",
     "output_type": "stream",
     "text": [
      "The new value of x= 5\n",
      "The new value of y= 10\n"
     ]
    }
   ],
   "source": [
    "#question 3\n",
    "x=10\n",
    "y=5\n",
    "\n",
    "temp=x\n",
    "x=y\n",
    "y=temp\n",
    "\n",
    "print(\"The new value of x=\",x)\n",
    "print(\"The new value of y=\",y)"
   ]
  },
  {
   "cell_type": "code",
   "execution_count": 5,
   "metadata": {},
   "outputs": [
    {
     "name": "stdout",
     "output_type": "stream",
     "text": [
      "The new value of x= 5\n",
      "The new value of y= 10\n"
     ]
    }
   ],
   "source": [
    "#question 4\n",
    "x=10\n",
    "y=5\n",
    "\n",
    "x=x+y\n",
    "y=x-y\n",
    "x=x-y\n",
    "\n",
    "print(\"The new value of x=\",x)\n",
    "print(\"The new value of y=\",y)"
   ]
  },
  {
   "cell_type": "code",
   "execution_count": 24,
   "metadata": {},
   "outputs": [
    {
     "name": "stdout",
     "output_type": "stream",
     "text": [
      "Enter the temperature in farenhiet:97\n",
      "Temperature in celsius is: 36.111111111111114 and Temperature in kelvin is: 309.1111111111111\n"
     ]
    }
   ],
   "source": [
    "#question 5\n",
    "f=int(input(\"Enter the temperature in farenhiet:\"))\n",
    "c=(f-32)*(5/9)\n",
    "k=c+273\n",
    "print(\"Temperature in celsius is:\",c, \"and Temperature in kelvin is:\",k)"
   ]
  },
  {
   "cell_type": "code",
   "execution_count": 10,
   "metadata": {},
   "outputs": [],
   "source": [
    "#question 6\n",
    "n1=100\n",
    "n2=12.33\n",
    "name=\"letsupgrade\"\n",
    "lst=[1,2,3]\n",
    "a=(1,2,3,4,4)\n",
    "sets={1,2,2,3,4,\"letsupgrade\",\"AI-ML\",3,4}\n",
    "dit={\"name\":\"letsupgrade\",\"email\":\"xyz@gmail.com\"}\n"
   ]
  },
  {
   "cell_type": "code",
   "execution_count": 16,
   "metadata": {},
   "outputs": [
    {
     "data": {
      "text/plain": [
       "int"
      ]
     },
     "execution_count": 16,
     "metadata": {},
     "output_type": "execute_result"
    }
   ],
   "source": [
    "type(n1)"
   ]
  },
  {
   "cell_type": "code",
   "execution_count": 17,
   "metadata": {},
   "outputs": [
    {
     "data": {
      "text/plain": [
       "float"
      ]
     },
     "execution_count": 17,
     "metadata": {},
     "output_type": "execute_result"
    }
   ],
   "source": [
    "type(n2)"
   ]
  },
  {
   "cell_type": "code",
   "execution_count": 18,
   "metadata": {},
   "outputs": [
    {
     "data": {
      "text/plain": [
       "str"
      ]
     },
     "execution_count": 18,
     "metadata": {},
     "output_type": "execute_result"
    }
   ],
   "source": [
    "type(name)"
   ]
  },
  {
   "cell_type": "code",
   "execution_count": 19,
   "metadata": {},
   "outputs": [
    {
     "data": {
      "text/plain": [
       "list"
      ]
     },
     "execution_count": 19,
     "metadata": {},
     "output_type": "execute_result"
    }
   ],
   "source": [
    "type(lst)"
   ]
  },
  {
   "cell_type": "code",
   "execution_count": 20,
   "metadata": {},
   "outputs": [
    {
     "data": {
      "text/plain": [
       "tuple"
      ]
     },
     "execution_count": 20,
     "metadata": {},
     "output_type": "execute_result"
    }
   ],
   "source": [
    "type(a)"
   ]
  },
  {
   "cell_type": "code",
   "execution_count": 21,
   "metadata": {},
   "outputs": [
    {
     "data": {
      "text/plain": [
       "set"
      ]
     },
     "execution_count": 21,
     "metadata": {},
     "output_type": "execute_result"
    }
   ],
   "source": [
    "type(sets)"
   ]
  },
  {
   "cell_type": "code",
   "execution_count": 22,
   "metadata": {},
   "outputs": [
    {
     "data": {
      "text/plain": [
       "dict"
      ]
     },
     "execution_count": 22,
     "metadata": {},
     "output_type": "execute_result"
    }
   ],
   "source": [
    "type(dit)"
   ]
  },
  {
   "cell_type": "markdown",
   "metadata": {},
   "source": [
    "#question 7\n",
    "\n",
    " -Go to github account in google.\n",
    " -create a profile in github by signing in the account\n",
    " -after completing the assignment,create a file of it.\n",
    " -go to github account,click on new repository,write repository name,description,make it public account,and then create new repository.\n",
    " -upload existing file,drag the jupiter file into github account.\n",
    " -commit change.enter.\n",
    " -copy the url of the github account where you have uploaded the assinment.\n",
    " -paste that url in assignment form.and then click on submit by entering all the details."
   ]
  },
  {
   "cell_type": "code",
   "execution_count": null,
   "metadata": {},
   "outputs": [],
   "source": []
  }
 ],
 "metadata": {
  "kernelspec": {
   "display_name": "Python 3",
   "language": "python",
   "name": "python3"
  },
  "language_info": {
   "codemirror_mode": {
    "name": "ipython",
    "version": 3
   },
   "file_extension": ".py",
   "mimetype": "text/x-python",
   "name": "python",
   "nbconvert_exporter": "python",
   "pygments_lexer": "ipython3",
   "version": "3.7.6"
  }
 },
 "nbformat": 4,
 "nbformat_minor": 4
}
